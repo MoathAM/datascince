{
 "cells": [
  {
   "cell_type": "code",
   "execution_count": null,
   "id": "cadad102-0307-4b35-bb8a-67b98ae758ad",
   "metadata": {},
   "outputs": [],
   "source": []
  },
  {
   "cell_type": "markdown",
   "id": "a1afa6bc-efb3-4fa4-846b-9bf79698c849",
   "metadata": {},
   "source": [
    "# Data Science Tools and Ecosystem"
   ]
  },
  {
   "cell_type": "markdown",
   "id": "cbb325cc-63e8-4db4-b56a-5246f44c64d5",
   "metadata": {},
   "source": [
    "In this notebook, Data Science Tools and Ecosystem are summarized."
   ]
  },
  {
   "cell_type": "markdown",
   "id": "01a41b7b-3e33-4ae6-bac9-e499bd9f58ab",
   "metadata": {},
   "source": [
    "Some of the popular languages that Data Scientists use are:\n",
    "\n",
    "1. Python\n",
    "2. R\n",
    "3. SQL\n"
   ]
  },
  {
   "cell_type": "markdown",
   "id": "88bd72fa-02b9-4d33-9277-0d92481e1fcb",
   "metadata": {},
   "source": [
    "Some of the commonly used libraries used by Data Scientists include:\n",
    "\n",
    "1. Pandas\n",
    "2. NumPy\n",
    "3. Matplotlib\n"
   ]
  },
  {
   "cell_type": "markdown",
   "id": "5da701d9-1ae0-4146-b6a1-bd16655cf287",
   "metadata": {},
   "source": [
    "| Data Science Tools        |\n",
    "|---------------------------|\n",
    "| Jupyter Notebook          |\n",
    "| RStudio                   |\n",
    "| Apache Zeppelin           |\n"
   ]
  },
  {
   "cell_type": "markdown",
   "id": "25694e8e-684f-4a91-85e1-f6c185acc539",
   "metadata": {},
   "source": [
    "### Below are a few examples of evaluating arithmetic expressions in Python.\n",
    "\n"
   ]
  },
  {
   "cell_type": "code",
   "execution_count": 3,
   "id": "daea712e-4c3f-4806-83f8-9d3dbe8c5147",
   "metadata": {},
   "outputs": [
    {
     "data": {
      "text/plain": [
       "17"
      ]
     },
     "execution_count": 3,
     "metadata": {},
     "output_type": "execute_result"
    }
   ],
   "source": [
    "# This is a simple arithmetic expression to multiply then add integers\n",
    "(3 * 4) + 5\n"
   ]
  },
  {
   "cell_type": "code",
   "execution_count": 4,
   "id": "0060c578-0e17-450b-a7de-8dec4f29b454",
   "metadata": {},
   "outputs": [
    {
     "data": {
      "text/plain": [
       "3.3333333333333335"
      ]
     },
     "execution_count": 4,
     "metadata": {},
     "output_type": "execute_result"
    }
   ],
   "source": [
    "# This will convert 200 minutes to hours by dividing by 60\n",
    "200 / 60\n"
   ]
  },
  {
   "cell_type": "markdown",
   "id": "2ecd719d-86b0-420d-bfa5-bb58bad24046",
   "metadata": {},
   "source": [
    "**Objectives:**\n",
    "\n",
    "- Understand the difference between code cells and markdown cells in Jupyter Notebook.  \n",
    "- Learn how to create, rename, and save Jupyter Notebook files.  \n",
    "- Practice writing and executing Python code inside code cells.  \n",
    "- Gain experience in writing formatted text and lists using markdown cells.  \n",
    "- Perform basic arithmetic operations using Python within Jupyter Notebook.\n"
   ]
  },
  {
   "cell_type": "markdown",
   "id": "21190abe-3980-4a82-a046-a5fbce6f21dc",
   "metadata": {},
   "source": [
    "## Author\n",
    "\n",
    "Moath alammari"
   ]
  },
  {
   "cell_type": "code",
   "execution_count": null,
   "id": "2268be72-af01-46d4-b8e7-dba848d3822d",
   "metadata": {},
   "outputs": [],
   "source": []
  }
 ],
 "metadata": {
  "kernelspec": {
   "display_name": "Python 3",
   "language": "python",
   "name": "python3"
  },
  "language_info": {
   "codemirror_mode": {
    "name": "ipython",
    "version": 3
   },
   "file_extension": ".py",
   "mimetype": "text/x-python",
   "name": "python",
   "nbconvert_exporter": "python",
   "pygments_lexer": "ipython3",
   "version": "3.13.3"
  }
 },
 "nbformat": 4,
 "nbformat_minor": 5
}
